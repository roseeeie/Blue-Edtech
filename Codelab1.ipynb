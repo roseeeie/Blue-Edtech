{
  "nbformat": 4,
  "nbformat_minor": 0,
  "metadata": {
    "colab": {
      "name": "Codelab1.ipynb",
      "provenance": [],
      "authorship_tag": "ABX9TyNeEk0GlG1Kk33uV2J656A6",
      "include_colab_link": true
    },
    "kernelspec": {
      "name": "python3",
      "display_name": "Python 3"
    },
    "language_info": {
      "name": "python"
    }
  },
  "cells": [
    {
      "cell_type": "markdown",
      "metadata": {
        "id": "view-in-github",
        "colab_type": "text"
      },
      "source": [
        "<a href=\"https://colab.research.google.com/github/roseeeie/Blue-Edtech/blob/main/Codelab1.ipynb\" target=\"_parent\"><img src=\"https://colab.research.google.com/assets/colab-badge.svg\" alt=\"Open In Colab\"/></a>"
      ]
    },
    {
      "cell_type": "code",
      "metadata": {
        "id": "LAUXm9JpJQVs"
      },
      "source": [
        ""
      ],
      "execution_count": null,
      "outputs": []
    },
    {
      "cell_type": "markdown",
      "metadata": {
        "id": "9YtukKLrJXbe"
      },
      "source": [
        "#Exercicio 1: E os 10% do garçom?"
      ]
    },
    {
      "cell_type": "markdown",
      "metadata": {
        "id": "VfKO8NwYKMac"
      },
      "source": [
        "Resolução"
      ]
    },
    {
      "cell_type": "code",
      "metadata": {
        "colab": {
          "base_uri": "https://localhost:8080/"
        },
        "id": "S-zBX8s0KFk6",
        "outputId": "3e6051e1-62ba-48dd-b699-f69e4e21ed89"
      },
      "source": [
        "valor_refeicao = 42.54  #float\n",
        "valor_taxa = 10 # int\n",
        "\n",
        "resultado = valor_refeicao + valor_refeicao * (valor_taxa/100) # float\n",
        "print(\"R$ %.2f\" % resultado)\n",
        "print(f\"R$ {resultado:.2f}\")"
      ],
      "execution_count": 3,
      "outputs": [
        {
          "output_type": "stream",
          "text": [
            "R$ 46.79\n",
            "R$ 46.79\n"
          ],
          "name": "stdout"
        }
      ]
    },
    {
      "cell_type": "markdown",
      "metadata": {
        "id": "Fqik2zaQOzPS"
      },
      "source": [
        "#Exercício 2: Qual o valor dp troco?"
      ]
    },
    {
      "cell_type": "markdown",
      "metadata": {
        "id": "aMO3SzH1O6VB"
      },
      "source": [
        "Resolução:"
      ]
    },
    {
      "cell_type": "code",
      "metadata": {
        "colab": {
          "base_uri": "https://localhost:8080/"
        },
        "id": "clf_d5usO5ma",
        "outputId": "962051b0-9f1e-4f42-fbbb-4ca1038f0921"
      },
      "source": [
        "valor_total = 100.98 # float\n",
        "valor_pago = 150.00 #float\n",
        "\n",
        "resultado = valor_pago - valor_total\n",
        "print(f\"R$ {resultado:.2f}\")"
      ],
      "execution_count": 4,
      "outputs": [
        {
          "output_type": "stream",
          "text": [
            "R$ 49.02\n"
          ],
          "name": "stdout"
        }
      ]
    },
    {
      "cell_type": "markdown",
      "metadata": {
        "id": "bnHs1kTKQKi5"
      },
      "source": [
        "#Exercício 3: Você está na flor da idade?"
      ]
    },
    {
      "cell_type": "markdown",
      "metadata": {
        "id": "D_DOOzijQRe6"
      },
      "source": [
        "Resolução:"
      ]
    },
    {
      "cell_type": "code",
      "metadata": {
        "colab": {
          "base_uri": "https://localhost:8080/"
        },
        "id": "4R_Z8AFROy13",
        "outputId": "0ba25650-a0d1-4ad6-d494-fb9a59518012"
      },
      "source": [
        "ano_nascimento = 2000\n",
        "ano_atual = 2021\n",
        "idade = ano_atual - ano_nascimento\n",
        "\n",
        "print(\"Sua idade é:\\t%d\" % idade)\n",
        "print(\"Você está na flor da idade!\")"
      ],
      "execution_count": 7,
      "outputs": [
        {
          "output_type": "stream",
          "text": [
            "Sua idade é:\t21\n",
            "Você está na flor da idade!\n"
          ],
          "name": "stdout"
        }
      ]
    },
    {
      "cell_type": "markdown",
      "metadata": {
        "id": "lNHBvL0ERPGI"
      },
      "source": [
        "#Exercícios para treinar!"
      ]
    },
    {
      "cell_type": "markdown",
      "metadata": {
        "id": "u6wVgxhtRUa7"
      },
      "source": [
        "1 - Frase na tela = Implemente um programa que escreve na \n",
        "tela a frase \"O primeiro programa a gente nunca esquece!\"\n",
        "\n",
        "\n",
        "\n",
        "\n",
        "\n",
        "\n"
      ]
    },
    {
      "cell_type": "code",
      "metadata": {
        "colab": {
          "base_uri": "https://localhost:8080/"
        },
        "id": "oKW8UuV0SKw0",
        "outputId": "91e679bc-306b-41ea-d7fc-238666af54be"
      },
      "source": [
        "print(\"O primeiro programa a gente nunca esquece !!!!\")"
      ],
      "execution_count": 8,
      "outputs": [
        {
          "output_type": "stream",
          "text": [
            "O primeiro programa a gente nunca esquece !!!!\n"
          ],
          "name": "stdout"
        }
      ]
    },
    {
      "cell_type": "markdown",
      "metadata": {
        "id": "aC2NMiqwRp5s"
      },
      "source": [
        "2 - Etiqueta =  Elabore um programa que escreve seu nome completo na primeira linha, seu endereço na segunda e o CEP e telefone na terceira linha."
      ]
    },
    {
      "cell_type": "code",
      "metadata": {
        "colab": {
          "base_uri": "https://localhost:8080/"
        },
        "id": "qt6bs1UTSUyY",
        "outputId": "658fb2ab-0ee9-4fd6-e91d-d3b52805620b"
      },
      "source": [
        "nome = \"Rosicleia Furst\"\n",
        "endereco = \"Adolfo Olsen 1797\"\n",
        "CEP = \"89295-000\"\n",
        "telefone = 47991177023\n",
        "print(\"Nome: %s\\nEndereço: %s\\nCEP: %s \\t Telefone: %d\" %(nome, endereco, CEP, telefone))"
      ],
      "execution_count": 13,
      "outputs": [
        {
          "output_type": "stream",
          "text": [
            "Nome: Rosicleia Furst\n",
            "Endereço: Adolfo Olsen 1797\n",
            "CEP: 89295-000 \t Telefone: 47991177023\n"
          ],
          "name": "stdout"
        }
      ]
    },
    {
      "cell_type": "markdown",
      "metadata": {
        "id": "pCiyZGEqUMEo"
      },
      "source": [
        "3 - Letra de músicas: Faça um programa que mostre na tela uma letra de música que você gosta."
      ]
    },
    {
      "cell_type": "code",
      "metadata": {
        "colab": {
          "base_uri": "https://localhost:8080/"
        },
        "id": "hygRRNt4Vs-Q",
        "outputId": "fac87361-66b3-4335-d5d3-fb5d0b67ca3d"
      },
      "source": [
        "print(\"'Cause nobody wants to be the last one there'\\n\"\n",
        "      \"'Cause everyone wants to feel like someone cares'\\n\"\n",
        "      \"'Someone to love with my life in their hands'\\n\"\n",
        "      \"'There's gotta be somebody for me like that'\")\n",
        "\n"
      ],
      "execution_count": 22,
      "outputs": [
        {
          "output_type": "stream",
          "text": [
            "'Cause nobody wants to be the last one there'\n",
            "'Cause everyone wants to feel like someone cares'\n",
            "'Someone to love with my life in their hands'\n",
            "'There's gotta be somebody for me like that'\n"
          ],
          "name": "stdout"
        }
      ]
    },
    {
      "cell_type": "markdown",
      "metadata": {
        "id": "ZbQN3jlEXjLr"
      },
      "source": [
        "4 - Tabela de notas - Você foi contratado ou contratada por uma escola pra fazer o sistema de boletim dos alunos. Como primeiro passo, escreva um programa que reproduza a 1° saída:\n",
        "Aluno (A)  NOTA\n",
        "=========  =====\n",
        "ALINE      9.0\n",
        "MÁRIO      DEZ\n",
        "SÉRGIO     4.5\n",
        "SHIRLEY    7.0"
      ]
    },
    {
      "cell_type": "code",
      "metadata": {
        "colab": {
          "base_uri": "https://localhost:8080/"
        },
        "id": "pHRmF-cAdpd7",
        "outputId": "8e87db8f-5d06-4821-b012-619ac0e4279b"
      },
      "source": [
        "print(\"ALUNO (A)  NOTA\\n\"\n",
        "      \"=========  ======\\n\"\n",
        "      \"ALINE      9.0   \\n\"\n",
        "      \"MÁRIO      DEZ   \\n\"\n",
        "      \"SÉRGIO     4.5   \\n\"\n",
        "      \"SHIRLEY    7.0     \")\n"
      ],
      "execution_count": 24,
      "outputs": [
        {
          "output_type": "stream",
          "text": [
            "ALUNO (A)  NOTA\n",
            "=========  ======\n",
            "ALINE      9.0   \n",
            "MÁRIO      DEZ   \n",
            "SÉRGIO     4.5   \n",
            "SHIRLEY    7.0     \n"
          ],
          "name": "stdout"
        }
      ]
    },
    {
      "cell_type": "markdown",
      "metadata": {
        "id": "hdhnFlsxVoIq"
      },
      "source": [
        "\n",
        "5. **Menu** - Elabore um programa que mostre o seguinte menu na tela:\n",
        "```\n",
        "Cadastro de Clientes\n",
        "0 - Fim\n",
        "1 - Inclui\n",
        "2 - Altera\n",
        "3 - Exclui\n",
        "4 - Consulta\n",
        "Digite uma opção: \n",
        "```\n",
        "Ao digitar um valor para a opção, o programa exibe qual opção foi escolhida.\n",
        "```\n",
        "Você escolheu a opção '0'.\n"
      ]
    },
    {
      "cell_type": "code",
      "metadata": {
        "colab": {
          "base_uri": "https://localhost:8080/"
        },
        "id": "c03hus28Vq5X",
        "outputId": "724a399a-d3f6-4ed6-a808-cc8c1d1e1f8b"
      },
      "source": [
        "lista = [0, 1, 2, 3, 4]\n",
        "op = int(input(\"Cadastro de Clientes\\n\"\n",
        "  \"0 - Fim\\n\"\n",
        "  \"1 - Inclui\\n\"\n",
        "  \"2 - Altera\\n\"\n",
        "  \"3 - Exclui\\n\"\n",
        "  \"4 - Consulta\\n\\n\"\n",
        "  \"Digite uma opção:\"))\n",
        "print(\"A opção escolhida foi:\", lista[op])"
      ],
      "execution_count": 2,
      "outputs": [
        {
          "output_type": "stream",
          "text": [
            "Cadastro de Clientes\n",
            "0 - Fim\n",
            "1 - Inclui\n",
            "2 - Altera\n",
            "3 - Exclui\n",
            "4 - Consulta\n",
            "\n",
            "Digite uma opção:4\n",
            "A opção escolhida foi: 4\n"
          ],
          "name": "stdout"
        }
      ]
    },
    {
      "cell_type": "code",
      "metadata": {
        "id": "ZirdZPK4YPcO"
      },
      "source": [
        "6. **Calculadora de Dano** - Escreva um programa que receba dois valores digitados pelo usuário:\n",
        "  - Quantidade de vida de um monstro (entre 10 e 50);\n",
        "  - Valor do ataque do jogador por turno (entre 5 e 10);\n",
        "  - Baseado nos valores digitados, exiba a quantidade de turnos que o jogador irá demorar para conseguir derrotar o monstro.\n",
        "  - ```\n",
        "    O jogador irá derrotar o monstro em 8 turnos.\n",
        "\n"
      ],
      "execution_count": null,
      "outputs": []
    },
    {
      "cell_type": "code",
      "metadata": {
        "colab": {
          "base_uri": "https://localhost:8080/"
        },
        "id": "50MAJwl0Ykkp",
        "outputId": "cc79b3f1-d92b-4ea1-fac6-6c36b8acc8ee"
      },
      "source": [
        "vida = int(input(\"Quantidade de vida do monstro entre 10 e 50: \"))\n",
        "ataque = int(input(\"Valor do ataque: entre 5 e 10:\"))\n",
        "\n",
        "turnos = (vida // ataque) + (vida % ataque > 0) \n",
        "\n",
        "print(turnos)"
      ],
      "execution_count": 14,
      "outputs": [
        {
          "output_type": "stream",
          "text": [
            "Quantidade de vida do monstro entre 10 e 50: 45\n",
            "Valor do ataque: entre 5 e 10:5\n",
            "9\n"
          ],
          "name": "stdout"
        }
      ]
    },
    {
      "cell_type": "markdown",
      "metadata": {
        "id": "SvamKu7DRifJ"
      },
      "source": [
        ""
      ]
    }
  ]
}