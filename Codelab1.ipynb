{
  "nbformat": 4,
  "nbformat_minor": 0,
  "metadata": {
    "colab": {
      "name": "Codelab1.ipynb",
      "provenance": [],
      "collapsed_sections": [],
      "authorship_tag": "ABX9TyOmSWETbS6iS0OqVcznPuT0",
      "include_colab_link": true
    },
    "kernelspec": {
      "name": "python3",
      "display_name": "Python 3"
    },
    "language_info": {
      "name": "python"
    }
  },
  "cells": [
    {
      "cell_type": "markdown",
      "metadata": {
        "id": "view-in-github",
        "colab_type": "text"
      },
      "source": [
        "<a href=\"https://colab.research.google.com/github/roseeeie/Blue-Edtech/blob/main/Codelab1.ipynb\" target=\"_parent\"><img src=\"https://colab.research.google.com/assets/colab-badge.svg\" alt=\"Open In Colab\"/></a>"
      ]
    },
    {
      "cell_type": "code",
      "metadata": {
        "id": "LAUXm9JpJQVs"
      },
      "source": [
        ""
      ],
      "execution_count": null,
      "outputs": []
    },
    {
      "cell_type": "markdown",
      "metadata": {
        "id": "9YtukKLrJXbe"
      },
      "source": [
        "#Exercicio 1: E os 10% do garçom?"
      ]
    },
    {
      "cell_type": "markdown",
      "metadata": {
        "id": "VfKO8NwYKMac"
      },
      "source": [
        "Resolução"
      ]
    },
    {
      "cell_type": "code",
      "metadata": {
        "colab": {
          "base_uri": "https://localhost:8080/"
        },
        "id": "S-zBX8s0KFk6",
        "outputId": "3e6051e1-62ba-48dd-b699-f69e4e21ed89"
      },
      "source": [
        "valor_refeicao = 42.54  #float\n",
        "valor_taxa = 10 # int\n",
        "\n",
        "resultado = valor_refeicao + valor_refeicao * (valor_taxa/100) # float\n",
        "print(\"R$ %.2f\" % resultado)\n",
        "print(f\"R$ {resultado:.2f}\")"
      ],
      "execution_count": null,
      "outputs": [
        {
          "output_type": "stream",
          "text": [
            "R$ 46.79\n",
            "R$ 46.79\n"
          ],
          "name": "stdout"
        }
      ]
    },
    {
      "cell_type": "markdown",
      "metadata": {
        "id": "Fqik2zaQOzPS"
      },
      "source": [
        "#Exercício 2: Qual o valor dp troco?"
      ]
    },
    {
      "cell_type": "markdown",
      "metadata": {
        "id": "aMO3SzH1O6VB"
      },
      "source": [
        "Resolução:"
      ]
    },
    {
      "cell_type": "code",
      "metadata": {
        "colab": {
          "base_uri": "https://localhost:8080/"
        },
        "id": "clf_d5usO5ma",
        "outputId": "962051b0-9f1e-4f42-fbbb-4ca1038f0921"
      },
      "source": [
        "valor_total = 100.98 # float\n",
        "valor_pago = 150.00 #float\n",
        "\n",
        "resultado = valor_pago - valor_total\n",
        "print(f\"R$ {resultado:.2f}\")"
      ],
      "execution_count": null,
      "outputs": [
        {
          "output_type": "stream",
          "text": [
            "R$ 49.02\n"
          ],
          "name": "stdout"
        }
      ]
    },
    {
      "cell_type": "markdown",
      "metadata": {
        "id": "bnHs1kTKQKi5"
      },
      "source": [
        "#Exercício 3: Você está na flor da idade?"
      ]
    },
    {
      "cell_type": "markdown",
      "metadata": {
        "id": "D_DOOzijQRe6"
      },
      "source": [
        "Resolução:"
      ]
    },
    {
      "cell_type": "code",
      "metadata": {
        "colab": {
          "base_uri": "https://localhost:8080/"
        },
        "id": "4R_Z8AFROy13",
        "outputId": "0ba25650-a0d1-4ad6-d494-fb9a59518012"
      },
      "source": [
        "ano_nascimento = 2000\n",
        "ano_atual = 2021\n",
        "idade = ano_atual - ano_nascimento\n",
        "\n",
        "print(\"Sua idade é:\\t%d\" % idade)\n",
        "print(\"Você está na flor da idade!\")"
      ],
      "execution_count": null,
      "outputs": [
        {
          "output_type": "stream",
          "text": [
            "Sua idade é:\t21\n",
            "Você está na flor da idade!\n"
          ],
          "name": "stdout"
        }
      ]
    },
    {
      "cell_type": "markdown",
      "metadata": {
        "id": "lNHBvL0ERPGI"
      },
      "source": [
        "#Exercícios para treinar!"
      ]
    },
    {
      "cell_type": "markdown",
      "metadata": {
        "id": "u6wVgxhtRUa7"
      },
      "source": [
        "1 - Frase na tela = Implemente um programa que escreve na \n",
        "tela a frase \"O primeiro programa a gente nunca esquece!\"\n",
        "\n",
        "\n",
        "\n",
        "\n",
        "\n",
        "\n"
      ]
    },
    {
      "cell_type": "code",
      "metadata": {
        "colab": {
          "base_uri": "https://localhost:8080/"
        },
        "id": "oKW8UuV0SKw0",
        "outputId": "91e679bc-306b-41ea-d7fc-238666af54be"
      },
      "source": [
        "print(\"O primeiro programa a gente nunca esquece !!!!\")"
      ],
      "execution_count": null,
      "outputs": [
        {
          "output_type": "stream",
          "text": [
            "O primeiro programa a gente nunca esquece !!!!\n"
          ],
          "name": "stdout"
        }
      ]
    },
    {
      "cell_type": "markdown",
      "metadata": {
        "id": "aC2NMiqwRp5s"
      },
      "source": [
        "2 - Etiqueta =  Elabore um programa que escreve seu nome completo na primeira linha, seu endereço na segunda e o CEP e telefone na terceira linha."
      ]
    },
    {
      "cell_type": "code",
      "metadata": {
        "colab": {
          "base_uri": "https://localhost:8080/"
        },
        "id": "qt6bs1UTSUyY",
        "outputId": "658fb2ab-0ee9-4fd6-e91d-d3b52805620b"
      },
      "source": [
        "nome = \"Rosicleia Furst\"\n",
        "endereco = \"Adolfo Olsen 1797\"\n",
        "CEP = \"89295-000\"\n",
        "telefone = 47991177023\n",
        "print(\"Nome: %s\\nEndereço: %s\\nCEP: %s \\t Telefone: %d\" %(nome, endereco, CEP, telefone))"
      ],
      "execution_count": null,
      "outputs": [
        {
          "output_type": "stream",
          "text": [
            "Nome: Rosicleia Furst\n",
            "Endereço: Adolfo Olsen 1797\n",
            "CEP: 89295-000 \t Telefone: 47991177023\n"
          ],
          "name": "stdout"
        }
      ]
    },
    {
      "cell_type": "markdown",
      "metadata": {
        "id": "pCiyZGEqUMEo"
      },
      "source": [
        "3 - Letra de músicas: Faça um programa que mostre na tela uma letra de música que você gosta."
      ]
    },
    {
      "cell_type": "code",
      "metadata": {
        "colab": {
          "base_uri": "https://localhost:8080/"
        },
        "id": "hygRRNt4Vs-Q",
        "outputId": "fac87361-66b3-4335-d5d3-fb5d0b67ca3d"
      },
      "source": [
        "print(\"'Cause nobody wants to be the last one there'\\n\"\n",
        "      \"'Cause everyone wants to feel like someone cares'\\n\"\n",
        "      \"'Someone to love with my life in their hands'\\n\"\n",
        "      \"'There's gotta be somebody for me like that'\")\n",
        "\n"
      ],
      "execution_count": null,
      "outputs": [
        {
          "output_type": "stream",
          "text": [
            "'Cause nobody wants to be the last one there'\n",
            "'Cause everyone wants to feel like someone cares'\n",
            "'Someone to love with my life in their hands'\n",
            "'There's gotta be somebody for me like that'\n"
          ],
          "name": "stdout"
        }
      ]
    },
    {
      "cell_type": "markdown",
      "metadata": {
        "id": "ZbQN3jlEXjLr"
      },
      "source": [
        "4 - Tabela de notas - Você foi contratado ou contratada por uma escola pra fazer o sistema de boletim dos alunos. Como primeiro passo, escreva um programa que reproduza a 1° saída:\n",
        "Aluno (A)  NOTA\n",
        "=========  =====\n",
        "ALINE      9.0\n",
        "MÁRIO      DEZ\n",
        "SÉRGIO     4.5\n",
        "SHIRLEY    7.0"
      ]
    },
    {
      "cell_type": "code",
      "metadata": {
        "colab": {
          "base_uri": "https://localhost:8080/"
        },
        "id": "pHRmF-cAdpd7",
        "outputId": "8e87db8f-5d06-4821-b012-619ac0e4279b"
      },
      "source": [
        "print(\"ALUNO (A)  NOTA\\n\"\n",
        "      \"=========  ======\\n\"\n",
        "      \"ALINE      9.0   \\n\"\n",
        "      \"MÁRIO      DEZ   \\n\"\n",
        "      \"SÉRGIO     4.5   \\n\"\n",
        "      \"SHIRLEY    7.0     \")\n"
      ],
      "execution_count": null,
      "outputs": [
        {
          "output_type": "stream",
          "text": [
            "ALUNO (A)  NOTA\n",
            "=========  ======\n",
            "ALINE      9.0   \n",
            "MÁRIO      DEZ   \n",
            "SÉRGIO     4.5   \n",
            "SHIRLEY    7.0     \n"
          ],
          "name": "stdout"
        }
      ]
    },
    {
      "cell_type": "markdown",
      "metadata": {
        "id": "hdhnFlsxVoIq"
      },
      "source": [
        "\n",
        "5. **Menu** - Elabore um programa que mostre o seguinte menu na tela:\n",
        "```\n",
        "Cadastro de Clientes\n",
        "0 - Fim\n",
        "1 - Inclui\n",
        "2 - Altera\n",
        "3 - Exclui\n",
        "4 - Consulta\n",
        "Digite uma opção: \n",
        "```\n",
        "Ao digitar um valor para a opção, o programa exibe qual opção foi escolhida.\n",
        "```\n",
        "Você escolheu a opção '0'.\n"
      ]
    },
    {
      "cell_type": "code",
      "metadata": {
        "colab": {
          "base_uri": "https://localhost:8080/"
        },
        "id": "c03hus28Vq5X",
        "outputId": "96799668-ec2e-4639-e2cf-992fdbbfae54"
      },
      "source": [
        "lista = [\"'0'\", \"'1'\", \"'2'\", \"'3'\", \"'4'\"] \n",
        "opcao = int(input(\"Cadastro de Clientes\\n\"\n",
        "  \"0 - Fim\\n\"\n",
        "  \"1 - Inclui\\n\"\n",
        "  \"2 - Altera\\n\"\n",
        "  \"3 - Exclui\\n\"\n",
        "  \"4 - Consulta\\n\\n\"\n",
        "  \"Digite uma opção:\"))\n",
        "print(\"Você escolheu a opção:\", lista[opcao])\n",
        "print(\"Você escolheu a opção: '%d'\" % opcao)"
      ],
      "execution_count": null,
      "outputs": [
        {
          "output_type": "stream",
          "text": [
            "Cadastro de Clientes\n",
            "0 - Fim\n",
            "1 - Inclui\n",
            "2 - Altera\n",
            "3 - Exclui\n",
            "4 - Consulta\n",
            "\n",
            "Digite uma opção:1\n",
            "Você escolheu a opção: '1'\n",
            "Você escolheu a opção: '1'\n"
          ],
          "name": "stdout"
        }
      ]
    },
    {
      "cell_type": "markdown",
      "metadata": {
        "id": "lyjGjZGqST8j"
      },
      "source": [
        "**6** **Calculadora** **de** **Dano**"
      ]
    },
    {
      "cell_type": "code",
      "metadata": {
        "id": "ZirdZPK4YPcO"
      },
      "source": [
        "6. **Calculadora de Dano** - Escreva um programa que receba dois valores digitados pelo usuário:\n",
        "  - Quantidade de vida de um monstro (entre 10 e 50);\n",
        "  - Valor do ataque do jogador por turno (entre 5 e 10);\n",
        "  - Baseado nos valores digitados, exiba a quantidade de turnos que o jogador irá demorar para conseguir derrotar o monstro.\n",
        "  - ```\n",
        "    O jogador irá derrotar o monstro em 8 turnos.\n",
        "\n"
      ],
      "execution_count": null,
      "outputs": []
    },
    {
      "cell_type": "code",
      "metadata": {
        "colab": {
          "base_uri": "https://localhost:8080/"
        },
        "id": "50MAJwl0Ykkp",
        "outputId": "8d0512ff-0f77-4946-dbd4-ce7877e788ab"
      },
      "source": [
        "vida = int(input(\"Quantidade de vida do monstro entre 10 e 50: \"))\n",
        "ataque = int(input(\"Valor do ataque: entre 5 e 10:\"))\n",
        "\n",
        "turnos = (vida // ataque) + (vida % ataque > 0) \n",
        "\n",
        "print(turnos)"
      ],
      "execution_count": null,
      "outputs": [
        {
          "output_type": "stream",
          "text": [
            "Quantidade de vida do monstro entre 10 e 50: 11\n",
            "Valor do ataque: entre 5 e 10:4\n",
            "3\n"
          ],
          "name": "stdout"
        }
      ]
    },
    {
      "cell_type": "code",
      "metadata": {
        "colab": {
          "base_uri": "https://localhost:8080/"
        },
        "id": "hhF8F0chSED5",
        "outputId": "0205a251-7a36-40dc-ac6f-f47b668358d0"
      },
      "source": [
        "vida = 0\n",
        "vida = vida + True\n",
        "print(vida)\n",
        "\n",
        "vida = 0\n",
        "vida = vida + False\n",
        "print(vida)"
      ],
      "execution_count": null,
      "outputs": [
        {
          "output_type": "stream",
          "text": [
            "1\n",
            "0\n"
          ],
          "name": "stdout"
        }
      ]
    },
    {
      "cell_type": "code",
      "metadata": {
        "id": "pIbhZiM9lpvT"
      },
      "source": [
        ""
      ],
      "execution_count": null,
      "outputs": []
    },
    {
      "cell_type": "markdown",
      "metadata": {
        "id": "CCS_CSc3Ksxk"
      },
      "source": [
        "#Exercício para treinar"
      ]
    },
    {
      "cell_type": "markdown",
      "metadata": {
        "id": "S3mZdsc7KxOy"
      },
      "source": [
        "Exercício 1: Faça um Programa que leia três números inteiros, em seguida mostre o maior e o menor deles."
      ]
    },
    {
      "cell_type": "code",
      "metadata": {
        "colab": {
          "base_uri": "https://localhost:8080/"
        },
        "id": "b5NfkBf4LTsY",
        "outputId": "0bfed806-d2f0-448f-965b-d75101336a22"
      },
      "source": [
        "num1 = int(input(\"Primeiro número: \"))\n",
        "num2 = int(input(\"Segundo número: \"))\n",
        "num3 = int(input(\"Terceiro número: \"))\n",
        "\n",
        "maior = 0\n",
        "menor = 999\n",
        "if num1 > num2 and num1 > num3:\n",
        "  maior = num1\n",
        "elif num2 > num1 and num2 > num3:\n",
        "  maior = num2\n",
        "elif num3 > num2 and num3 > num1:\n",
        "  maior = num3\n",
        "\n",
        "if num1 < num2 and num1 < num3:\n",
        "  menor = num1\n",
        "elif num2 < num1 and num2 < num3:\n",
        "  menor = num2\n",
        "elif num3 > num2 and num3 > num1:\n",
        "  menor = num3\n",
        "\n",
        "print(\"Menor número: \", menor)\n",
        "print(\"Maior número:\", maior)\n",
        "\n",
        "\n",
        "\n",
        "\n"
      ],
      "execution_count": null,
      "outputs": [
        {
          "output_type": "stream",
          "text": [
            "Primeiro número: 500\n",
            "Segundo número: 4\n",
            "Terceiro número: 8\n",
            "Menor número:  4\n",
            "Maior número: 500\n"
          ],
          "name": "stdout"
        }
      ]
    },
    {
      "cell_type": "markdown",
      "metadata": {
        "id": "7YMVJ7G6Vr-V"
      },
      "source": [
        "Exercício 2 - Faça um programa que peça dois números e imprima o maior deles."
      ]
    },
    {
      "cell_type": "code",
      "metadata": {
        "colab": {
          "base_uri": "https://localhost:8080/"
        },
        "id": "3_NVya2kWPeh",
        "outputId": "b8e1cad6-fae2-413c-e1cb-c8acab82a3c5"
      },
      "source": [
        "num1 = int(input(\"Digite o primeiro número: \"))\n",
        "num2 = int(input(\"Digite o segundo número: \"))\n",
        "if num1 > num2:\n",
        "  print(num1, \"é o maior número.\")\n",
        "else:\n",
        "  print(num2, \"é o maior número.\")\n"
      ],
      "execution_count": null,
      "outputs": [
        {
          "output_type": "stream",
          "text": [
            "Digite o primeiro número: 3\n",
            "Digite o segundo número: 1\n",
            "3 É o maior número.\n"
          ],
          "name": "stdout"
        }
      ]
    },
    {
      "cell_type": "markdown",
      "metadata": {
        "id": "KeqkexqJX2IM"
      },
      "source": [
        "Exercício 3 - Faça um script que peça um valor e mostre na tela se o valor é positivo ou negativo."
      ]
    },
    {
      "cell_type": "code",
      "metadata": {
        "colab": {
          "base_uri": "https://localhost:8080/"
        },
        "id": "qkUfvcKFX-Js",
        "outputId": "abbbd654-a9fa-4699-9f68-d84978e7419a"
      },
      "source": [
        "valor = int(input(\"Digite um valor:\"))\n",
        "if valor < 0:\n",
        "  print(\"O valor\", valor, \"é negativo!\")\n",
        "else:\n",
        "  print(\"O valor\", valor, \"é positivo!\")"
      ],
      "execution_count": null,
      "outputs": [
        {
          "output_type": "stream",
          "text": [
            "Digite um valor:-7\n",
            "O valor -7 é negativo!\n"
          ],
          "name": "stdout"
        }
      ]
    },
    {
      "cell_type": "markdown",
      "metadata": {
        "id": "eEE_0eQQbN0j"
      },
      "source": [
        "Exercício 4 - Crie um programa que verifique se uma letra digitada é \"F\" ou \"M\". Conforme a letra escrever: F - Feminino, M - Masculino, Sexo Inválido."
      ]
    },
    {
      "cell_type": "code",
      "metadata": {
        "colab": {
          "base_uri": "https://localhost:8080/"
        },
        "id": "pKME2qg2ba6j",
        "outputId": "91bda623-186c-4323-88a6-a92872e7dafa"
      },
      "source": [
        "letra = str(input(\"Digite F ou M\"))\n",
        "if letra == \"M\" or letra == \"m\":\n",
        "  print(\"M - Masculino\")\n",
        "elif letra == \"F\" or letra == \"f\":\n",
        "  print(\"F - Feminino\")\n"
      ],
      "execution_count": null,
      "outputs": [
        {
          "output_type": "stream",
          "text": [
            "Digite F ou Mf\n",
            "F - Feminino\n"
          ],
          "name": "stdout"
        }
      ]
    },
    {
      "cell_type": "markdown",
      "metadata": {
        "id": "b-sqaBLOhmsb"
      },
      "source": [
        "Exercício 5 - Crie um programa em Python que peça a nota do aluno, que deve ser um float entre 0.00 e 10.0\n",
        "•\tSe a nota for menor que 6.0, deve exibir a nota F.\n",
        "•\tSe a nota for de 6.0 até 7.0, deve exibir a nota D.\n",
        "•\tSe a nota for entre 7.0 e 8.0, deve exibir a nota C.\n",
        "•\tSe a nota for entre 8.0 e 9.0, deve exibir a nota B.\n",
        "•\tPor fim, se for entre 9.0 e 10.0, deve exibir um belo de um A.\n"
      ]
    },
    {
      "cell_type": "code",
      "metadata": {
        "colab": {
          "base_uri": "https://localhost:8080/"
        },
        "id": "kL3CL5bUhvZ8",
        "outputId": "4f4116d1-f742-433b-879c-0391ac58e340"
      },
      "source": [
        "nota = float(input(\"Digite uma nota entre 0.00 e 10.0:\"))\n",
        "if nota < 6.0:\n",
        "  print(\"F\")\n",
        "elif nota > 6.0 and nota < 7.0:\n",
        "  print(\"D\")\n",
        "elif nota > 7.0 and nota < 8.0:\n",
        "  print(\"C\")\n",
        "elif nota > 8.0 and nota < 9.0:\n",
        "  print(\"B\")\n",
        "else:\n",
        "  print(\"A\")"
      ],
      "execution_count": null,
      "outputs": [
        {
          "output_type": "stream",
          "text": [
            "Digite uma nota entre 0.00 e 10.0:7.8\n",
            "C\n"
          ],
          "name": "stdout"
        }
      ]
    },
    {
      "cell_type": "markdown",
      "metadata": {
        "id": "T0vTyWh8jCLp"
      },
      "source": [
        "Exercício 6 - Faça um Programa que verifique se uma letra digitada é vogal ou consoante."
      ]
    },
    {
      "cell_type": "code",
      "metadata": {
        "colab": {
          "base_uri": "https://localhost:8080/"
        },
        "id": "p5VyLH0FjHHJ",
        "outputId": "213dbf4f-4b59-43c9-fad8-53c99c3f38f0"
      },
      "source": [
        "letra = input(\"Digite uma letra:\")\n",
        "if letra == \"a\" or letra == \"A\" or letra == \"e\" or letra ==\"E\" or letra == \"i\" or letra == \"I\" or letra == \"o\" or letra == \"O\" or letra == \"u\" or letra == \"U\":\n",
        "  print(\"letra é uma vogal!\")\n",
        "else:\n",
        "  print(letra, \"é uma consoante!\")"
      ],
      "execution_count": null,
      "outputs": [
        {
          "output_type": "stream",
          "text": [
            "Digite uma letra:l\n",
            "l é uma consoante!\n"
          ],
          "name": "stdout"
        }
      ]
    },
    {
      "cell_type": "code",
      "metadata": {
        "id": "z5ZPY7WHUdBF"
      },
      "source": [
        "\n"
      ],
      "execution_count": null,
      "outputs": []
    },
    {
      "cell_type": "markdown",
      "metadata": {
        "id": "iwB-JgyGkliC"
      },
      "source": [
        "PROJETO 1\n",
        "Resultado da primeira/segunda aula em Python:\n",
        "•\tEscreva um programa que receba uma string digitada pelo usuário;\n",
        "•\tCaso a string seja \"medieval\", exiba no console \"espada\";\n",
        "•\tCaso contrário, se a string for \"futurista\", exiba no console \"sabre de luz\";\n",
        "•\tCaso contrário, exiba no console \"Tente novamente\"\n"
      ]
    },
    {
      "cell_type": "code",
      "metadata": {
        "colab": {
          "base_uri": "https://localhost:8080/"
        },
        "id": "h8gc2yy7kq3F",
        "outputId": "60c5764d-574a-4db4-be7c-15ef787e1129"
      },
      "source": [
        "string = str(input(\"Digite uma String:\"))\n",
        "if string == \"medieval\" or string == \"Medieval\" or string == \"MEDIEVAL\":\n",
        "  print(\"espada\")\n",
        "elif string == \"futurista\" or string == \"Futurista\" or string == \"FUTURISTA\":\n",
        "  print(\"sabre de luz\")\n",
        "else:\n",
        "  print(\"Tente novamente!\")"
      ],
      "execution_count": null,
      "outputs": [
        {
          "output_type": "stream",
          "text": [
            "Digite uma String:Medieval\n",
            "Tente novamente!\n"
          ],
          "name": "stdout"
        }
      ]
    },
    {
      "cell_type": "markdown",
      "metadata": {
        "id": "9iJpt2VNmK1o"
      },
      "source": [
        "Continuação do PROJETO 1\n",
        "•\tEscreva um programa que receba um ataque de espada ou sabre digitada pelo usuário;\n",
        "•\tCaso o ataque seja \"espada\", exiba no console \"VOCÊ AINDA NÃO MATOU O CHEFÃO\";\n",
        "•\tCaso contrário, se o ataque for \"sabre\", exiba no console \"VOCÊ DERROTOU O CHEFÃO COM O SABRE DE LUZ\";\n",
        "•\tCaso contrário, exiba no console \"ATAQUE NOVAMENTE\"\n"
      ]
    },
    {
      "cell_type": "code",
      "metadata": {
        "colab": {
          "base_uri": "https://localhost:8080/"
        },
        "id": "sP8-0pTOmcib",
        "outputId": "bb15b1e1-cb0b-4390-9513-0b1a58af24f7"
      },
      "source": [
        "ataque = input(\"Digite 'ataque' ou 'sabre'\").upper()\n",
        "if ataque == \"espada\" or ataque == \"Espada\" or ataque == \"ESPADA\":\n",
        "  print(\"VOCÊ AINDA NÃO MATOU O CHEFÃO\")\n",
        "elif ataque  == \"sabre\" or ataque == \"Sabre\" or ataque == \"SABRE\":\n",
        "  print(\"VOCÊ DERROTOU O CHEFÃO COM O SABRE DE LUZ\")\n",
        "else:\n",
        "  print(\"ATAQUE NOVAMENTE!\")"
      ],
      "execution_count": null,
      "outputs": [
        {
          "output_type": "stream",
          "text": [
            "Digite 'ataque' ou 'sabre'SABRE\n",
            "VOCÊ DERROTOU O CHEFÃO COM O SABRE DE LUZ\n"
          ],
          "name": "stdout"
        }
      ]
    },
    {
      "cell_type": "markdown",
      "metadata": {
        "id": "PrYirMKvo0zY"
      },
      "source": [
        "DESAFIO - As empresas @.com resolveram dar um aumento de salário aos seus colaboradores e lhe contrataram para desenvolver o programa que calculará os reajustes.\n",
        "\n",
        "Faça um programa que recebe o salário de um colaborador e o reajuste segundo o seguinte critério, baseado no salário atual:\n",
        "•\tsalários até R$ 280,00 (incluindo) : aumento de 20%\n",
        "•\tsalários entre R$ 280,00 e R$ 700,00 : aumento de 15%\n",
        "•\tsalários entre R$ 700,00 e R$ 1500,00 : aumento de 10%\n",
        "•\tsalários de R$ 1500,00 em diante : aumento de 5%\n",
        "Após o aumento ser realizado, informe na tela:\n",
        "•\to salário antes do reajuste;\n",
        "•\to percentual de aumento aplicado;\n",
        "•\to valor do aumento;\n",
        "•\to novo salário, após o aumento.\"\n"
      ]
    },
    {
      "cell_type": "code",
      "metadata": {
        "id": "Lpl71MlApko1",
        "colab": {
          "base_uri": "https://localhost:8080/"
        },
        "outputId": "35e6ec48-cbe0-41bb-f02d-6cbb0b7047df"
      },
      "source": [
        "salario = float(input(\"Salário:\"))\n",
        "reajuste = 0.0\n",
        "\n",
        "if salario < 280.0:\n",
        "\n",
        "  aumento = salario*0.2\n",
        "  print(\"Salário antes do reajuste: \", salario)\n",
        "  print(\"Foi aplicado um aumento de 20 %\")\n",
        "  print(\"Valor do aumento: \", aumento)\n",
        "  print(\"Novo salário após o aumento: \", salario + aumento)\n",
        "\n",
        "  \n",
        "\n",
        "elif salario > 280.0 and salario < 700.0:\n",
        "  \n",
        "  aumento = salario*0.15\n",
        "  print(\"Salário antes do reajuste: \", salario)\n",
        "  print(\"Foi aplicado um aumento de 15 %\")\n",
        "  print(\"Valor do aumento: \", aumento)\n",
        "  print(\"Novo salário após o aumento: \", salario + aumento)\n",
        "\n",
        "elif salario > 700.0 and salario < 1500.0:\n",
        "  \n",
        "  aumento = salario*0.1\n",
        "  print(\"Salário antes do reajuste: \", salario)\n",
        "  print(\"Foi aplicado um aumento de 10 %\")\n",
        "  print(\"Valor do aumento: \", aumento)\n",
        "  print(\"Novo salário após o aumento: \", salario + aumento)\n",
        "\n",
        "elif salario > 1500.0:\n",
        "  \n",
        "  aumento = salario*0.05\n",
        "  print(\"Salário antes do reajuste: \", salario)\n",
        "  print(\"Foi aplicado um aumento de 5 %\")\n",
        "  print(\"Valor do aumento: \", aumento)\n",
        "  print(\"Novo salário após o aumento: \", salario + aumento)\n",
        "\n",
        "else:\n",
        "  print(\"Informe um salário maior  ou menor que R$280.00\")"
      ],
      "execution_count": null,
      "outputs": [
        {
          "output_type": "stream",
          "text": [
            "Salário:900.00\n",
            "Salário antes do reajuste:  900.0\n",
            "Foi aplicado um aumento de 10 %\n",
            "Valor do aumento:  90.0\n",
            "Novo salário após o aumento:  990.0\n"
          ],
          "name": "stdout"
        }
      ]
    },
    {
      "cell_type": "markdown",
      "metadata": {
        "id": "Ks0OMfKwkK33"
      },
      "source": [
        "DESAFIO\n",
        "Faça um Programa para um caixa eletrônico. O programa deverá perguntar ao usuário o valor do saque e depois informar quantas notas de cada valor serão fornecidas. As notas disponíveis serão as de 1, 5, 10, 50 e 100 reais. O valor mínimo é de 10 reais e o máximo de 600 reais. O programa não deve se preocupar com a quantidade de notas existentes na máquina.\n",
        "•\tExemplo 1: Para sacar a quantia de 256 reais, o programa fornece duas notas de 100, uma nota de 50, uma nota de 5 e uma nota de 1;\n",
        "•\tExemplo 2: Para sacar a quantia de 399 reais, o programa fornece três notas de 100, uma nota de 50, quatro notas de 10, uma nota de 5 e quatro notas de 1.\n"
      ]
    },
    {
      "cell_type": "code",
      "metadata": {
        "colab": {
          "base_uri": "https://localhost:8080/"
        },
        "id": "-6WqvIaSn1Pf",
        "outputId": "2c4c8ab9-e435-45d2-9976-6fed278f5f11"
      },
      "source": [
        "valor = int(input(\"Informe um valor para saque: \"))\n",
        "valor_saque = valor\n",
        "if valor >= 10 and valor < 600:\n",
        "  cem = int(valor//100)\n",
        "  valor = valor - (cem*100)\n",
        "\n",
        "  cinquenta  = int(valor // 50)\n",
        "  valor = valor - (cinquenta*50)\n",
        "\n",
        "  dez = int(valor // 10)\n",
        "  valor = valor - (dez*10)\n",
        "\n",
        "  cinco = int(valor // 5)\n",
        "  valor = valor - (cinco*5)\n",
        "\n",
        "  um = valor\n",
        "\n",
        "  print(\"Para sacar %d reais, o programa fornece %d nota(s) de 100 reais, %d nota(s) de 50, %d nota(s) de 10, %d nota(s) de 5 e %d nota(s) de 1.  \" % (valor_saque, cem, cinquenta, dez, cinco, um ))\n",
        "else:\n",
        "  print(\"Valor indisponível.\")\n"
      ],
      "execution_count": 12,
      "outputs": [
        {
          "output_type": "stream",
          "text": [
            "Informe um valor para saque: 111\n",
            "Para sacar 111 reais, o programa fornece 1 nota(s) de 100 reais, 0 nota(s) de 50, 1 nota(s) de 10, 0 nota(s) de 5 e 1 nota(s) de 1.  \n"
          ],
          "name": "stdout"
        }
      ]
    },
    {
      "cell_type": "code",
      "metadata": {
        "colab": {
          "base_uri": "https://localhost:8080/"
        },
        "id": "g0P4g40VkCQZ",
        "outputId": "298246c2-e102-4af8-a863-0c9b439caf92"
      },
      "source": [
        "s = \"Olá, mundo!\"\n",
        "print(s[0]+s[1])\n",
        "print(s[2])\n",
        "print(s[6])\n",
        "print(len(s))"
      ],
      "execution_count": null,
      "outputs": [
        {
          "output_type": "stream",
          "text": [
            "Ol\n",
            "á\n",
            "u\n",
            "11\n"
          ],
          "name": "stdout"
        }
      ]
    },
    {
      "cell_type": "markdown",
      "metadata": {
        "id": "bfGyulQVmb4m"
      },
      "source": [
        ""
      ]
    },
    {
      "cell_type": "markdown",
      "metadata": {
        "id": "9cX4AhtoVhjB"
      },
      "source": [
        ""
      ]
    },
    {
      "cell_type": "markdown",
      "metadata": {
        "id": "d6rJIWQo0vfr"
      },
      "source": [
        ""
      ]
    },
    {
      "cell_type": "markdown",
      "metadata": {
        "id": "SvamKu7DRifJ"
      },
      "source": [
        ""
      ]
    }
  ]
}