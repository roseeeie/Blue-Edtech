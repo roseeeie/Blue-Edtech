{
  "nbformat": 4,
  "nbformat_minor": 0,
  "metadata": {
    "colab": {
      "name": "Aula1.ipynb",
      "provenance": [],
      "authorship_tag": "ABX9TyP0gOJ6GGJbsvXehKj4MbiT",
      "include_colab_link": true
    },
    "kernelspec": {
      "name": "python3",
      "display_name": "Python 3"
    },
    "language_info": {
      "name": "python"
    }
  },
  "cells": [
    {
      "cell_type": "markdown",
      "metadata": {
        "id": "view-in-github",
        "colab_type": "text"
      },
      "source": [
        "<a href=\"https://colab.research.google.com/github/roseeeie/Blue-Edtech/blob/main/Aula1.ipynb\" target=\"_parent\"><img src=\"https://colab.research.google.com/assets/colab-badge.svg\" alt=\"Open In Colab\"/></a>"
      ]
    },
    {
      "cell_type": "code",
      "metadata": {
        "id": "acgk3s53D4Cf"
      },
      "source": [
        ""
      ],
      "execution_count": null,
      "outputs": []
    },
    {
      "cell_type": "markdown",
      "metadata": {
        "id": "ht4wawibEjYg"
      },
      "source": [
        "# Comando Print()"
      ]
    },
    {
      "cell_type": "code",
      "metadata": {
        "colab": {
          "base_uri": "https://localhost:8080/"
        },
        "id": "TEBY1uF5FD41",
        "outputId": "54f03d35-fcdc-4164-e0f1-60c4a7252f4b"
      },
      "source": [
        "print(\"Olá Mundo!\")"
      ],
      "execution_count": null,
      "outputs": [
        {
          "output_type": "stream",
          "text": [
            "Olá Mundo!\n"
          ],
          "name": "stdout"
        }
      ]
    },
    {
      "cell_type": "code",
      "metadata": {
        "colab": {
          "base_uri": "https://localhost:8080/"
        },
        "id": "5H-GUqnfHdl1",
        "outputId": "27990d99-89e0-482c-e666-c66df05b1445"
      },
      "source": [
        "print(10%3)\n"
      ],
      "execution_count": null,
      "outputs": [
        {
          "output_type": "stream",
          "text": [
            "1\n"
          ],
          "name": "stdout"
        }
      ]
    },
    {
      "cell_type": "code",
      "metadata": {
        "colab": {
          "base_uri": "https://localhost:8080/"
        },
        "id": "Kx2FpHZgLYyg",
        "outputId": "a0d89e4e-53c0-455d-a41d-5ae9fa17db7b"
      },
      "source": [
        "a = 3\n",
        "b = 2\n",
        "print(a + b)"
      ],
      "execution_count": null,
      "outputs": [
        {
          "output_type": "stream",
          "text": [
            "5\n"
          ],
          "name": "stdout"
        }
      ]
    },
    {
      "cell_type": "code",
      "metadata": {
        "id": "rTFEPMIcNnnI"
      },
      "source": [
        "soma = 4 + 25\n",
        "subtracao = 14 - 3\n",
        "multiplicacao =12*5\n",
        "divisao = 8/2\n"
      ],
      "execution_count": null,
      "outputs": []
    },
    {
      "cell_type": "markdown",
      "metadata": {
        "id": "vIMqqg_7N3-8"
      },
      "source": [
        "#Operadores Relacionais\n"
      ]
    },
    {
      "cell_type": "code",
      "metadata": {
        "colab": {
          "base_uri": "https://localhost:8080/"
        },
        "id": "qnJ2sXDyN9zk",
        "outputId": "f48d78ac-7300-471f-a84b-48619cdd39a5"
      },
      "source": [
        "print(2<=5)"
      ],
      "execution_count": null,
      "outputs": [
        {
          "output_type": "stream",
          "text": [
            "True\n"
          ],
          "name": "stdout"
        }
      ]
    },
    {
      "cell_type": "code",
      "metadata": {
        "colab": {
          "base_uri": "https://localhost:8080/"
        },
        "id": "dgEGxxs4Pljy",
        "outputId": "5b4f3403-79c4-49ba-ba59-5e47bd291f9b"
      },
      "source": [
        "a = 5\n",
        "print(a==5)\n",
        "print(a==4)\n",
        "print(a)\n",
        "print(\"G\" == \"g\")"
      ],
      "execution_count": null,
      "outputs": [
        {
          "output_type": "stream",
          "text": [
            "True\n",
            "False\n",
            "5\n",
            "False\n"
          ],
          "name": "stdout"
        }
      ]
    },
    {
      "cell_type": "code",
      "metadata": {
        "colab": {
          "base_uri": "https://localhost:8080/"
        },
        "id": "aJuiRATCQ7Fd",
        "outputId": "54c9cdcf-d44e-49b3-ef4b-e44420a0e3c8"
      },
      "source": [
        "nota = 3\n",
        "nota <= 6 or nota >= 4"
      ],
      "execution_count": null,
      "outputs": [
        {
          "output_type": "execute_result",
          "data": {
            "text/plain": [
              "True"
            ]
          },
          "metadata": {
            "tags": []
          },
          "execution_count": 24
        }
      ]
    },
    {
      "cell_type": "code",
      "metadata": {
        "id": "BXISU-XquizA",
        "outputId": "7af5fd60-cc10-46bf-c06b-263d499a9764",
        "colab": {
          "base_uri": "https://localhost:8080/"
        }
      },
      "source": [
        "2 > 3\n",
        "4 != 5\n",
        "4 != 4\n",
        "\"gustavo\" == \"GUSTAVO\""
      ],
      "execution_count": 1,
      "outputs": [
        {
          "output_type": "execute_result",
          "data": {
            "text/plain": [
              "False"
            ]
          },
          "metadata": {
            "tags": []
          },
          "execution_count": 1
        }
      ]
    },
    {
      "cell_type": "code",
      "metadata": {
        "id": "r4aPQ6qfu6gV",
        "outputId": "146003af-2d16-471a-ffef-8875b92b8799",
        "colab": {
          "base_uri": "https://localhost:8080/"
        }
      },
      "source": [
        "2 < 3 and 1 < 8"
      ],
      "execution_count": 2,
      "outputs": [
        {
          "output_type": "execute_result",
          "data": {
            "text/plain": [
              "True"
            ]
          },
          "metadata": {
            "tags": []
          },
          "execution_count": 2
        }
      ]
    },
    {
      "cell_type": "code",
      "metadata": {
        "id": "4vGAqfFpvBm_",
        "outputId": "8a52816c-3d18-4127-bb7b-3225dfc116c0",
        "colab": {
          "base_uri": "https://localhost:8080/"
        }
      },
      "source": [
        "2 < 4 and 1 > 3"
      ],
      "execution_count": 4,
      "outputs": [
        {
          "output_type": "execute_result",
          "data": {
            "text/plain": [
              "False"
            ]
          },
          "metadata": {
            "tags": []
          },
          "execution_count": 4
        }
      ]
    },
    {
      "cell_type": "code",
      "metadata": {
        "id": "JaAna7Wzvvtl",
        "outputId": "64a5af5d-622a-4334-bd9f-4f21c3570175",
        "colab": {
          "base_uri": "https://localhost:8080/"
        }
      },
      "source": [
        "2 < 4 or 1 > 3"
      ],
      "execution_count": 5,
      "outputs": [
        {
          "output_type": "execute_result",
          "data": {
            "text/plain": [
              "True"
            ]
          },
          "metadata": {
            "tags": []
          },
          "execution_count": 5
        }
      ]
    },
    {
      "cell_type": "code",
      "metadata": {
        "id": "o91YC2rpv4DC",
        "outputId": "e0027962-a2fe-405e-fc03-8cd6fb795394",
        "colab": {
          "base_uri": "https://localhost:8080/"
        }
      },
      "source": [
        "not not True"
      ],
      "execution_count": 7,
      "outputs": [
        {
          "output_type": "execute_result",
          "data": {
            "text/plain": [
              "True"
            ]
          },
          "metadata": {
            "tags": []
          },
          "execution_count": 7
        }
      ]
    },
    {
      "cell_type": "markdown",
      "metadata": {
        "id": "ZXuexPwPTknM"
      },
      "source": [
        ""
      ]
    },
    {
      "cell_type": "markdown",
      "metadata": {
        "id": "Q6oNzoQEVEDN"
      },
      "source": [
        "#Variáveis\n"
      ]
    },
    {
      "cell_type": "markdown",
      "metadata": {
        "id": "5As36P_hwi8K"
      },
      "source": [
        "Exemplo 1"
      ]
    },
    {
      "cell_type": "code",
      "metadata": {
        "id": "Vlx-inAKVH9j",
        "outputId": "022b26d3-647b-4e45-fced-a6a39a6c84e4",
        "colab": {
          "base_uri": "https://localhost:8080/"
        }
      },
      "source": [
        "a = 29\n",
        "a\n",
        "b = 43\n",
        "print(b)\n",
        "print(type(b))"
      ],
      "execution_count": 9,
      "outputs": [
        {
          "output_type": "stream",
          "text": [
            "43\n",
            "<class 'int'>\n"
          ],
          "name": "stdout"
        }
      ]
    },
    {
      "cell_type": "markdown",
      "metadata": {
        "id": "Mg_KBQT2wsCZ"
      },
      "source": [
        "Exemplo 2"
      ]
    },
    {
      "cell_type": "code",
      "metadata": {
        "id": "_2udkQM1yOA-",
        "outputId": "541c0f0d-9afc-4560-9812-15eca620a1b3",
        "colab": {
          "base_uri": "https://localhost:8080/"
        }
      },
      "source": [
        "b = 1.5\n",
        "print(b)\n",
        "print(type(b))"
      ],
      "execution_count": 10,
      "outputs": [
        {
          "output_type": "stream",
          "text": [
            "1.5\n",
            "<class 'float'>\n"
          ],
          "name": "stdout"
        }
      ]
    },
    {
      "cell_type": "markdown",
      "metadata": {
        "id": "MavLy8HczNFy"
      },
      "source": [
        "Exemplo 3"
      ]
    },
    {
      "cell_type": "code",
      "metadata": {
        "id": "Rgu81s59zMns",
        "outputId": "807e5f56-69b9-4377-9cfa-1fb6f291911c",
        "colab": {
          "base_uri": "https://localhost:8080/"
        }
      },
      "source": [
        "c = \"Pelos poderes de Grayskul! Eu tenho a força!\"\n",
        "print(c)\n",
        "print(type(c))"
      ],
      "execution_count": 11,
      "outputs": [
        {
          "output_type": "stream",
          "text": [
            "Pelos poderes de Grayskul! Eu tenho a força!\n",
            "<class 'str'>\n"
          ],
          "name": "stdout"
        }
      ]
    },
    {
      "cell_type": "markdown",
      "metadata": {
        "id": "ui0W_N0Uzt7Y"
      },
      "source": [
        "**Sintaxe** **Elegante**!\n"
      ]
    },
    {
      "cell_type": "code",
      "metadata": {
        "id": "hXjzf8t7wrN4"
      },
      "source": [
        "print(\"Olá mundo!\")\n"
      ],
      "execution_count": null,
      "outputs": []
    },
    {
      "cell_type": "code",
      "metadata": {
        "id": "VOuPbWm4z5aN",
        "outputId": "7e0271d8-5540-47b3-8446-382d65d2557f",
        "colab": {
          "base_uri": "https://localhost:8080/"
        }
      },
      "source": [
        "x = 'Blue'\n",
        "print(x)"
      ],
      "execution_count": 16,
      "outputs": [
        {
          "output_type": "stream",
          "text": [
            "Blue\n"
          ],
          "name": "stdout"
        }
      ]
    },
    {
      "cell_type": "markdown",
      "metadata": {
        "id": "_g49rof20Oe3"
      },
      "source": [
        "**Tipagem** **Dinâmica**"
      ]
    },
    {
      "cell_type": "markdown",
      "metadata": {
        "id": "UU_Wsw1zwhTA"
      },
      "source": [
        ""
      ]
    },
    {
      "cell_type": "code",
      "metadata": {
        "id": "LXw-JUFjwgAB",
        "outputId": "910fe2f7-66da-4898-acf8-7befc94e6007",
        "colab": {
          "base_uri": "https://localhost:8080/"
        }
      },
      "source": [
        "b, t = 10,20\n",
        "print(\"Resultado: %d\" % (b + t))"
      ],
      "execution_count": 15,
      "outputs": [
        {
          "output_type": "stream",
          "text": [
            "Resultado: 30\n"
          ],
          "name": "stdout"
        }
      ]
    },
    {
      "cell_type": "code",
      "metadata": {
        "id": "lwFwjERK29Gu",
        "outputId": "bd6fb2a3-bd9f-47e3-c6d5-9e7a631f8e09",
        "colab": {
          "base_uri": "https://localhost:8080/"
        }
      },
      "source": [
        "a, b, c, d = 1, 2, 3, 4\n",
        "print(\"Soma:\", a+b, \"Multiplicação:\", c*d)\n",
        "print(\"Soma\", a+b+c+d)"
      ],
      "execution_count": 20,
      "outputs": [
        {
          "output_type": "stream",
          "text": [
            "Soma: 3 Multiplicação: 12\n",
            "Soma 10\n"
          ],
          "name": "stdout"
        }
      ]
    },
    {
      "cell_type": "markdown",
      "metadata": {
        "id": "tlq-E1qe4L8B"
      },
      "source": [
        "**Tipagem** **Forte**"
      ]
    },
    {
      "cell_type": "code",
      "metadata": {
        "id": "VITL08BS4Tqm"
      },
      "source": [
        "i, j = 10, \"Gustavo\"\n",
        "print(i)\n",
        "print(j)\n",
        "print(i+j)"
      ],
      "execution_count": null,
      "outputs": []
    },
    {
      "cell_type": "markdown",
      "metadata": {
        "id": "lH4jcSQu4uqb"
      },
      "source": [
        "**Estrutura** **de** **Dados** **de** **alto** **nível**"
      ]
    },
    {
      "cell_type": "code",
      "metadata": {
        "id": "860P9qAh4_u_",
        "outputId": "ddf1af8c-9ae8-4978-d4c5-fadd2f5491d3",
        "colab": {
          "base_uri": "https://localhost:8080/"
        }
      },
      "source": [
        "l = [3, 2, 1]\n",
        "n = l\n",
        "l[1] = 8\n",
        "print(n)\n",
        "\n",
        "n = 2\n",
        "l = n\n",
        "l = 3\n",
        "n = l\n",
        "print(l)\n",
        "print(n)\n"
      ],
      "execution_count": 25,
      "outputs": [
        {
          "output_type": "stream",
          "text": [
            "[3, 8, 1]\n",
            "3\n",
            "3\n"
          ],
          "name": "stdout"
        }
      ]
    },
    {
      "cell_type": "code",
      "metadata": {
        "id": "0NwWRL7Z7stD",
        "outputId": "7834b76e-5672-477e-af29-6ed1f5edfce6",
        "colab": {
          "base_uri": "https://localhost:8080/"
        }
      },
      "source": [
        "d = [\"23\", \"Sexta-feira\", \"Março\", \"2021\"]\n",
        "print(d)\n",
        "\n"
      ],
      "execution_count": 29,
      "outputs": [
        {
          "output_type": "stream",
          "text": [
            "['23', 'Sexta-feira', 'Março', '2021']\n",
            "23\n",
            "Sexta-feira\n",
            "Março\n",
            "2021\n"
          ],
          "name": "stdout"
        }
      ]
    },
    {
      "cell_type": "markdown",
      "metadata": {
        "id": "z8GCg7Sg8jca"
      },
      "source": [
        "#Comando input"
      ]
    },
    {
      "cell_type": "code",
      "metadata": {
        "id": "o6L07BwA8meK",
        "outputId": "3e888bb3-6932-4c17-8776-d1be1ca65524",
        "colab": {
          "base_uri": "https://localhost:8080/",
          "height": 69
        }
      },
      "source": [
        "nome = input(\"Digite seu nome\\n:\")\n",
        "nome"
      ],
      "execution_count": 35,
      "outputs": [
        {
          "output_type": "stream",
          "text": [
            "Digite seu nome\n",
            ":dfghjkl\n"
          ],
          "name": "stdout"
        },
        {
          "output_type": "execute_result",
          "data": {
            "application/vnd.google.colaboratory.intrinsic+json": {
              "type": "string"
            },
            "text/plain": [
              "'dfghjkl'"
            ]
          },
          "metadata": {
            "tags": []
          },
          "execution_count": 35
        }
      ]
    },
    {
      "cell_type": "code",
      "metadata": {
        "id": "xR9IXslA99p5",
        "outputId": "975d31ae-4b14-4b98-8606-7e726b14ed33",
        "colab": {
          "base_uri": "https://localhost:8080/"
        }
      },
      "source": [
        "num = int(input(\"Digite seu número da sorte:\"))\n",
        "print(num)"
      ],
      "execution_count": 37,
      "outputs": [
        {
          "output_type": "stream",
          "text": [
            "Digite seu número da sorte:25\n",
            "25\n"
          ],
          "name": "stdout"
        }
      ]
    },
    {
      "cell_type": "code",
      "metadata": {
        "id": "7vsT05Oc_Jdc"
      },
      "source": [
        "num = float(input(\"Digite sua altura:\"))\n",
        "print(num)"
      ],
      "execution_count": null,
      "outputs": []
    },
    {
      "cell_type": "markdown",
      "metadata": {
        "id": "ntyj0-Mfuf_u"
      },
      "source": [
        ""
      ]
    },
    {
      "cell_type": "markdown",
      "metadata": {
        "id": "pg8u6rqaQyCE"
      },
      "source": [
        ""
      ]
    }
  ]
}