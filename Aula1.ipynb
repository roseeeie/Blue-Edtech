{
  "nbformat": 4,
  "nbformat_minor": 0,
  "metadata": {
    "colab": {
      "name": "Aula1.ipynb",
      "provenance": [],
      "authorship_tag": "ABX9TyNKyusQU8yhnATx2EaCjLqj",
      "include_colab_link": true
    },
    "kernelspec": {
      "name": "python3",
      "display_name": "Python 3"
    },
    "language_info": {
      "name": "python"
    }
  },
  "cells": [
    {
      "cell_type": "markdown",
      "metadata": {
        "id": "view-in-github",
        "colab_type": "text"
      },
      "source": [
        "<a href=\"https://colab.research.google.com/github/roseeeie/Blue-Edtech/blob/main/Aula1.ipynb\" target=\"_parent\"><img src=\"https://colab.research.google.com/assets/colab-badge.svg\" alt=\"Open In Colab\"/></a>"
      ]
    },
    {
      "cell_type": "code",
      "metadata": {
        "id": "acgk3s53D4Cf"
      },
      "source": [
        ""
      ],
      "execution_count": null,
      "outputs": []
    },
    {
      "cell_type": "markdown",
      "metadata": {
        "id": "ht4wawibEjYg"
      },
      "source": [
        "# Comando Print()"
      ]
    },
    {
      "cell_type": "code",
      "metadata": {
        "colab": {
          "base_uri": "https://localhost:8080/"
        },
        "id": "TEBY1uF5FD41",
        "outputId": "54f03d35-fcdc-4164-e0f1-60c4a7252f4b"
      },
      "source": [
        "print(\"Olá Mundo!\")"
      ],
      "execution_count": 1,
      "outputs": [
        {
          "output_type": "stream",
          "text": [
            "Olá Mundo!\n"
          ],
          "name": "stdout"
        }
      ]
    },
    {
      "cell_type": "code",
      "metadata": {
        "colab": {
          "base_uri": "https://localhost:8080/"
        },
        "id": "5H-GUqnfHdl1",
        "outputId": "27990d99-89e0-482c-e666-c66df05b1445"
      },
      "source": [
        "print(10%3)\n"
      ],
      "execution_count": 12,
      "outputs": [
        {
          "output_type": "stream",
          "text": [
            "1\n"
          ],
          "name": "stdout"
        }
      ]
    },
    {
      "cell_type": "code",
      "metadata": {
        "colab": {
          "base_uri": "https://localhost:8080/"
        },
        "id": "Kx2FpHZgLYyg",
        "outputId": "a0d89e4e-53c0-455d-a41d-5ae9fa17db7b"
      },
      "source": [
        "a = 3\n",
        "b = 2\n",
        "print(a + b)"
      ],
      "execution_count": 14,
      "outputs": [
        {
          "output_type": "stream",
          "text": [
            "5\n"
          ],
          "name": "stdout"
        }
      ]
    },
    {
      "cell_type": "code",
      "metadata": {
        "id": "rTFEPMIcNnnI"
      },
      "source": [
        "soma = 4 + 25\n",
        "subtracao = 14 - 3\n",
        "multiplicacao =12*5\n",
        "divisao = 8/2\n"
      ],
      "execution_count": null,
      "outputs": []
    },
    {
      "cell_type": "markdown",
      "metadata": {
        "id": "vIMqqg_7N3-8"
      },
      "source": [
        "#Operadores Relacionais\n"
      ]
    },
    {
      "cell_type": "code",
      "metadata": {
        "colab": {
          "base_uri": "https://localhost:8080/"
        },
        "id": "qnJ2sXDyN9zk",
        "outputId": "f48d78ac-7300-471f-a84b-48619cdd39a5"
      },
      "source": [
        "print(2<=5)"
      ],
      "execution_count": 17,
      "outputs": [
        {
          "output_type": "stream",
          "text": [
            "True\n"
          ],
          "name": "stdout"
        }
      ]
    },
    {
      "cell_type": "code",
      "metadata": {
        "colab": {
          "base_uri": "https://localhost:8080/"
        },
        "id": "dgEGxxs4Pljy",
        "outputId": "5b4f3403-79c4-49ba-ba59-5e47bd291f9b"
      },
      "source": [
        "a = 5\n",
        "print(a==5)\n",
        "print(a==4)\n",
        "print(a)\n",
        "print(\"G\" == \"g\")"
      ],
      "execution_count": 20,
      "outputs": [
        {
          "output_type": "stream",
          "text": [
            "True\n",
            "False\n",
            "5\n",
            "False\n"
          ],
          "name": "stdout"
        }
      ]
    },
    {
      "cell_type": "code",
      "metadata": {
        "colab": {
          "base_uri": "https://localhost:8080/"
        },
        "id": "aJuiRATCQ7Fd",
        "outputId": "54c9cdcf-d44e-49b3-ef4b-e44420a0e3c8"
      },
      "source": [
        "nota = 3\n",
        "nota <= 6 or nota >= 4"
      ],
      "execution_count": 24,
      "outputs": [
        {
          "output_type": "execute_result",
          "data": {
            "text/plain": [
              "True"
            ]
          },
          "metadata": {
            "tags": []
          },
          "execution_count": 24
        }
      ]
    },
    {
      "cell_type": "markdown",
      "metadata": {
        "id": "ZXuexPwPTknM"
      },
      "source": [
        ""
      ]
    },
    {
      "cell_type": "markdown",
      "metadata": {
        "id": "Q6oNzoQEVEDN"
      },
      "source": [
        "#Variáveis\n"
      ]
    },
    {
      "cell_type": "code",
      "metadata": {
        "id": "Vlx-inAKVH9j"
      },
      "source": [
        ""
      ],
      "execution_count": null,
      "outputs": []
    },
    {
      "cell_type": "markdown",
      "metadata": {
        "id": "pg8u6rqaQyCE"
      },
      "source": [
        ""
      ]
    }
  ]
}